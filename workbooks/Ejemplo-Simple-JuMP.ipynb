{
 "cells": [
  {
   "cell_type": "code",
   "execution_count": null,
   "metadata": {
    "scrolled": false
   },
   "outputs": [],
   "source": [
    "#Pkg.add(\"GLPKMathProgInterface\")\n",
    "#Pkg.add(\"CPLEX\")"
   ]
  },
  {
   "cell_type": "code",
   "execution_count": null,
   "metadata": {},
   "outputs": [],
   "source": [
    "using JuMP\n",
    "#using CPLEX\n",
    "using GLPKMathProgInterface"
   ]
  },
  {
   "cell_type": "code",
   "execution_count": null,
   "metadata": {},
   "outputs": [],
   "source": [
    "#creamos un modelo\n",
    "#m = Model(solver = CplexSolver())\n",
    "#m = Model(solver = GLPKSolverMIP())\n",
    "m = Model(solver = GLPKSolverLP())\n",
    "\n",
    "#y sus variables\n",
    "@variable(m, 0 <= x <= 200 )\n",
    "@variable(m, 0 <= y <= 100 )\n",
    "\n",
    "#función objetivo a minimizar\n",
    "@objective(m, Max, 250*x + 400*y )\n",
    "\n",
    "#restricción\n",
    "@constraint(m, 3*x + 5*y <= 750.0 )\n",
    "\n",
    "#escribimos el modelo\n",
    "print(m)\n",
    "\n",
    "#resolvemos\n",
    "status = solve(m)\n",
    "\n",
    "#mostramos resultados\n",
    "println(\"Status: \",status,\" Objective value: \", getobjectivevalue(m))\n",
    "println(\"x = \", getvalue(x))\n",
    "println(\"y = \", getvalue(y))"
   ]
  },
  {
   "cell_type": "code",
   "execution_count": null,
   "metadata": {},
   "outputs": [],
   "source": []
  }
 ],
 "metadata": {
  "kernelspec": {
   "display_name": "Julia 0.6.1",
   "language": "julia",
   "name": "julia-0.6"
  },
  "language_info": {
   "file_extension": ".jl",
   "mimetype": "application/julia",
   "name": "julia",
   "version": "0.6.1"
  }
 },
 "nbformat": 4,
 "nbformat_minor": 2
}
